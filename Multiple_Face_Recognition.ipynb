{
 "cells": [
  {
   "cell_type": "markdown",
   "metadata": {},
   "source": [
    "Identifying Each face from the image and putting a rectangle around it"
   ]
  },
  {
   "cell_type": "code",
   "execution_count": 16,
   "metadata": {},
   "outputs": [
    {
     "name": "stdout",
     "output_type": "stream",
     "text": [
      "[(46, 673, 82, 637), (258, 517, 294, 481), (266, 253, 302, 217), (122, 569, 158, 533), (194, 517, 230, 481), (262, 185, 298, 149), (78, 89, 114, 53), (270, 585, 306, 549), (198, 153, 234, 117), (198, 269, 234, 233), (266, 113, 302, 77), (126, 249, 162, 213), (194, 337, 230, 301), (278, 325, 314, 289), (98, 193, 134, 157), (194, 457, 230, 421), (198, 381, 234, 345), (134, 441, 170, 405), (122, 505, 158, 469), (262, 393, 298, 357), (194, 213, 230, 177), (130, 393, 166, 357), (270, 645, 306, 609)]\n"
     ]
    }
   ],
   "source": [
    "import cv2\n",
    "import face_recognition as fc \n",
    "import numpy as np\n",
    "\n",
    "image = fc.load_image_file(\"upload_photo/class_2.jpg\")\n",
    "image = cv2.cvtColor(image , cv2.COLOR_BGR2RGB)\n",
    "\n",
    "face_locations = fc.face_locations(image)\n",
    "print(face_locations)\n",
    "\n",
    "for i in range(len(face_locations)):\n",
    "    image = cv2.rectangle(image,(face_locations[i][3],face_locations[i][0]),(face_locations[i][1],face_locations[i][2]),(255,0,255),2)\n",
    "\n",
    "cv2.imshow(\"Class Room\" , image)\n",
    "cv2.waitKey(0)\n",
    "cv2.destroyAllWindows()\n",
    "\n",
    "# The output is in the form of y1,x2,y2,x1"
   ]
  },
  {
   "cell_type": "code",
   "execution_count": 8,
   "metadata": {},
   "outputs": [],
   "source": [
    "# After Identification we will be cropping the image and saving it as a JPEG\n",
    "\n",
    "import cv2\n",
    "import face_recognition as fc \n",
    "import numpy as np\n",
    "\n",
    "image = fc.load_image_file(\"upload_photo/class_2.jpg\")\n",
    "image = cv2.cvtColor(image , cv2.COLOR_BGR2RGB)\n",
    "\n",
    "face_locations = fc.face_locations(image)\n",
    "\n",
    "# Crop should be of the form y1:y2,x1:x2\n",
    "# converting the coordinates from the face recognition software crop will be of the form\n",
    "# [face_locations[0][0]:face_locations[0][2],face_locations[0][3]:face_locations[0][1]]\n",
    "\n",
    "for i in range(len(face_locations)):\n",
    "    crop = image[face_locations[i][0]-40:face_locations[i][2]+20,face_locations[i][3]-20:face_locations[i][1]+20]\n",
    "    cv2.imwrite(str(i)+\".jpg\", crop)"
   ]
  },
  {
   "cell_type": "code",
   "execution_count": 16,
   "metadata": {},
   "outputs": [
    {
     "name": "stdout",
     "output_type": "stream",
     "text": [
      "23\n"
     ]
    }
   ],
   "source": [
    "# Creating a function which takes in an image and save all the faces in the image as a JPEG\n",
    "\n",
    "import cv2\n",
    "import face_recognition as fc \n",
    "import numpy as np\n",
    "import os\n",
    "\n",
    "path = 'new_isolated_faces'\n",
    "\n",
    "def face_detect(img):\n",
    "    image = fc.load_image_file(img)\n",
    "    image = cv2.cvtColor(image , cv2.COLOR_BGR2RGB)\n",
    "\n",
    "    face_locations = fc.face_locations(image)\n",
    "    print(len(face_locations))\n",
    "\n",
    "    # Crop should be of the form y1:y2,x1:x2\n",
    "    # converting the coordinates from the face recognition software crop will be of the form\n",
    "    # [face_locations[0][0]:face_locations[0][2],face_locations[0][3]:face_locations[0][1]]\n",
    "\n",
    "    for i in range(len(face_locations)):\n",
    "        crop = image[face_locations[i][0]-40:face_locations[i][2]+20,face_locations[i][3]-20:face_locations[i][1]+20]\n",
    "        cv2.imwrite(os.path.join(path , str(i+1)+\".jpg\"), crop)\n",
    "    \n",
    "face_detect(\"upload_photo\\class_2.jpg\")\n",
    "\n"
   ]
  },
  {
   "cell_type": "markdown",
   "metadata": {},
   "source": [
    "Folder files to isolated photos"
   ]
  },
  {
   "cell_type": "code",
   "execution_count": 5,
   "metadata": {},
   "outputs": [
    {
     "name": "stdout",
     "output_type": "stream",
     "text": [
      "11\n",
      "23\n"
     ]
    }
   ],
   "source": [
    "import cv2\n",
    "import face_recognition as fc \n",
    "import numpy as np\n",
    "import os\n",
    "import uuid\n",
    "\n",
    "path = 'new_isolated_faces'\n",
    "\n",
    "def face_detect(img,directory):\n",
    "    filepath = str(directory)+\"/\"+str(img)\n",
    "    image = fc.load_image_file(str(filepath))\n",
    "    image = cv2.cvtColor(image , cv2.COLOR_BGR2RGB)\n",
    "\n",
    "    face_locations = fc.face_locations(image)\n",
    "    print(len(face_locations))\n",
    "\n",
    "    # Crop should be of the form y1:y2,x1:x2\n",
    "    # converting the coordinates from the face recognition software crop will be of the form\n",
    "    # [face_locations[0][0]:face_locations[0][2],face_locations[0][3]:face_locations[0][1]]\n",
    "\n",
    "    for i in range(len(face_locations)):\n",
    "        crop = image[face_locations[i][0]-40:face_locations[i][2]+20,face_locations[i][3]-20:face_locations[i][1]+20]\n",
    "        cv2.imwrite(os.path.join(path , str(uuid.uuid1().int)+\".jpg\"), crop)\n",
    "\n",
    "\n",
    "def face_folder_detector(folder_name,folder):\n",
    "    dir = str(folder)\n",
    "    for f in os.listdir(dir):\n",
    "        os.remove(os.path.join(dir, f))\n",
    "    \n",
    "    directory = str(folder_name)\n",
    "    \n",
    "    for filename in os.listdir(directory):\n",
    "        face_detect(str(filename),folder_name)\n",
    "\n",
    "face_folder_detector(\"upload_photo\",\"new_isolated_faces\")"
   ]
  },
  {
   "cell_type": "markdown",
   "metadata": {},
   "source": [
    "Face Comparison function"
   ]
  },
  {
   "cell_type": "code",
   "execution_count": 24,
   "metadata": {},
   "outputs": [
    {
     "name": "stdout",
     "output_type": "stream",
     "text": [
      "[True]\n",
      "[0.38482172]\n"
     ]
    }
   ],
   "source": [
    "import face_recognition\n",
    "\n",
    "def face_comparision(img1,img2):\n",
    "    test_1 = face_recognition.load_image_file(str(img1))\n",
    "    test_1 = cv2.cvtColor(test_1, cv2.COLOR_BGR2RGB)\n",
    "    test_2 = face_recognition.load_image_file(str(img2))\n",
    "    test_2 = cv2.cvtColor(test_2, cv2.COLOR_BGR2RGB)\n",
    "\n",
    "    # finding face location\n",
    "\n",
    "    faceLocation_test_1 = face_recognition.face_locations(test_1)[0]\n",
    "    encode_test_1 = face_recognition.face_encodings(test_1)[0]\n",
    "    cv2.rectangle(test_1, (faceLocation_test_1[3], faceLocation_test_1[0]), (faceLocation_test_1[1], faceLocation_test_1[2]), (255, 0, 255), 3)\n",
    "\n",
    "\n",
    "    faceLocation_test_2 = face_recognition.face_locations(test_2)[0]\n",
    "    encode_test_2 = face_recognition.face_encodings(test_2)[0]\n",
    "    cv2.rectangle(test_2, (faceLocation_test_2[3], faceLocation_test_2[0]), (faceLocation_test_2[1], faceLocation_test_2[2]), (255, 0, 255), 3)\n",
    "\n",
    "    results = face_recognition.compare_faces([encode_test_1], encode_test_2)\n",
    "    \n",
    "    match = face_recognition.face_distance([encode_test_1], encode_test_2)\n",
    "    \n",
    "    print(results)\n",
    "    print(match)\n",
    "    cv2.putText(test_1, f'{results}', (50,50), cv2.FONT_HERSHEY_COMPLEX, 1,(0,0,255), 2 )\n",
    "    \n",
    "face_comparision(\"DataBase_Trial/elon musk/em1.png\",\"elon_musk.jpg\")\n",
    "\n",
    "    \n"
   ]
  },
  {
   "cell_type": "markdown",
   "metadata": {},
   "source": [
    "Image and Folder Comparison"
   ]
  },
  {
   "cell_type": "code",
   "execution_count": 22,
   "metadata": {},
   "outputs": [
    {
     "name": "stdout",
     "output_type": "stream",
     "text": [
      "[] []\n"
     ]
    }
   ],
   "source": [
    "import cv2\n",
    "import face_recognition\n",
    "import os\n",
    "def face_comparison(img1,img2):\n",
    "    \n",
    "    strength = []\n",
    "    \n",
    "    test_1 = face_recognition.load_image_file(str(img1))\n",
    "    test_1 = cv2.cvtColor(test_1, cv2.COLOR_BGR2RGB)\n",
    "    test_2 = face_recognition.load_image_file(str(img2))\n",
    "    test_2 = cv2.cvtColor(test_2, cv2.COLOR_BGR2RGB)\n",
    "\n",
    "    # finding face location\n",
    "\n",
    "    faceLocation_test_1 = face_recognition.face_locations(test_1)[0]\n",
    "    encode_test_1 = face_recognition.face_encodings(test_1)[0]\n",
    "    cv2.rectangle(test_1, (faceLocation_test_1[3], faceLocation_test_1[0]), (faceLocation_test_1[1], faceLocation_test_1[2]), (255, 0, 255), 3)\n",
    "\n",
    "\n",
    "    faceLocation_test_2 = face_recognition.face_locations(test_2)[0]\n",
    "    encode_test_2 = face_recognition.face_encodings(test_2)[0]\n",
    "    cv2.rectangle(test_2, (faceLocation_test_2[3], faceLocation_test_2[0]), (faceLocation_test_2[1], faceLocation_test_2[2]), (255, 0, 255), 3)\n",
    "\n",
    "    results = face_recognition.compare_faces([encode_test_1], encode_test_2)\n",
    "    \n",
    "    match = face_recognition.face_distance([encode_test_1], encode_test_2)\n",
    "    \n",
    "    return [results[0],float(match)]\n",
    "    # face_comparision(\"a1.jpg\",\"elon_musk.jpg\")\n",
    "\n",
    "def face_comparison_folder(img1,folder):\n",
    "    similarity = []\n",
    "    strength = []\n",
    "    dir = str(folder)\n",
    "    for f in os.listdir(dir):\n",
    "        a = face_comparison(img1,dir+\"/\"+f)\n",
    "        if a[0] == True:\n",
    "            similarity.append(a[0])\n",
    "            strength.append(a[1])\n",
    "        else:\n",
    "            break\n",
    "        \n",
    "    \n",
    "    return \n",
    "\n",
    "\n",
    "face_comparison_folder(\"elon_musk.jpg\",\"DataBase_Trial/elon musk\")\n",
    "\n",
    "def face_comparison_addition(img2,dir):\n",
    "    for f in os.listdir(dir):\n",
    "        b = face_comparison_folder(img2,f)\n",
    "        if b[0]== True and b[1] < 0.5:\n",
    "            "
   ]
  }
 ],
 "metadata": {
  "interpreter": {
   "hash": "63fd5069d213b44bf678585dea6b12cceca9941eaf7f819626cde1f2670de90d"
  },
  "kernelspec": {
   "display_name": "Python 3.9.7 64-bit",
   "language": "python",
   "name": "python3"
  },
  "language_info": {
   "codemirror_mode": {
    "name": "ipython",
    "version": 3
   },
   "file_extension": ".py",
   "mimetype": "text/x-python",
   "name": "python",
   "nbconvert_exporter": "python",
   "pygments_lexer": "ipython3",
   "version": "3.9.7"
  },
  "orig_nbformat": 4
 },
 "nbformat": 4,
 "nbformat_minor": 2
}
