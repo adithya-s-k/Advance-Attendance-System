{
 "cells": [
  {
   "cell_type": "markdown",
   "metadata": {},
   "source": [
    "Identifying Each face from the image and putting a rectangle around it"
   ]
  },
  {
   "cell_type": "code",
   "execution_count": 31,
   "metadata": {},
   "outputs": [
    {
     "name": "stdout",
     "output_type": "stream",
     "text": [
      "[(498, 342, 605, 235), (206, 374, 295, 285), (526, 984, 655, 855), (39, 287, 101, 225), (514, 514, 604, 424), (245, 683, 335, 593), (226, 1131, 315, 1041), (558, 1166, 665, 1059), (232, 149, 294, 87), (494, 782, 584, 693), (522, 211, 629, 103), (225, 941, 354, 812), (38, 602, 113, 527)]\n"
     ]
    }
   ],
   "source": [
    "import cv2\n",
    "import face_recognition as fc \n",
    "import numpy as np\n",
    "\n",
    "# image = fc.load_image_file(\"upload_photo/class_2.jpg\")\n",
    "image = fc.load_image_file(\"Famous.png\")\n",
    "image = cv2.cvtColor(image , cv2.COLOR_BGR2RGB)\n",
    "\n",
    "face_locations = fc.face_locations(image)\n",
    "print(face_locations)\n",
    "\n",
    "for i in range(len(face_locations)):\n",
    "    image = cv2.rectangle(image,(face_locations[i][3],face_locations[i][0]),(face_locations[i][1],face_locations[i][2]),(255,0,255),2)\n",
    "\n",
    "cv2.imshow(\"Class Room\" , image)\n",
    "cv2.waitKey(0)\n",
    "cv2.destroyAllWindows()\n",
    "\n",
    "# The output is in the form of y1,x2,y2,x1"
   ]
  },
  {
   "cell_type": "code",
   "execution_count": 32,
   "metadata": {},
   "outputs": [
    {
     "ename": "error",
     "evalue": "OpenCV(4.5.5) D:\\a\\opencv-python\\opencv-python\\opencv\\modules\\imgcodecs\\src\\loadsave.cpp:801: error: (-215:Assertion failed) !_img.empty() in function 'cv::imwrite'\n",
     "output_type": "error",
     "traceback": [
      "\u001b[1;31m---------------------------------------------------------------------------\u001b[0m",
      "\u001b[1;31merror\u001b[0m                                     Traceback (most recent call last)",
      "\u001b[1;32mc:\\Programming\\Python_Projects\\Advance Attendance System\\Multiple_Face_Recognition.ipynb Cell 3'\u001b[0m in \u001b[0;36m<module>\u001b[1;34m\u001b[0m\n\u001b[0;32m     <a href='vscode-notebook-cell:/c%3A/Programming/Python_Projects/Advance%20Attendance%20System/Multiple_Face_Recognition.ipynb#ch0000002?line=15'>16</a>\u001b[0m \u001b[39mfor\u001b[39;00m i \u001b[39min\u001b[39;00m \u001b[39mrange\u001b[39m(\u001b[39mlen\u001b[39m(face_locations)):\n\u001b[0;32m     <a href='vscode-notebook-cell:/c%3A/Programming/Python_Projects/Advance%20Attendance%20System/Multiple_Face_Recognition.ipynb#ch0000002?line=16'>17</a>\u001b[0m     crop \u001b[39m=\u001b[39m image[face_locations[i][\u001b[39m0\u001b[39m]\u001b[39m-\u001b[39m\u001b[39m40\u001b[39m:face_locations[i][\u001b[39m2\u001b[39m]\u001b[39m+\u001b[39m\u001b[39m20\u001b[39m,face_locations[i][\u001b[39m3\u001b[39m]\u001b[39m-\u001b[39m\u001b[39m20\u001b[39m:face_locations[i][\u001b[39m1\u001b[39m]\u001b[39m+\u001b[39m\u001b[39m20\u001b[39m]\n\u001b[1;32m---> <a href='vscode-notebook-cell:/c%3A/Programming/Python_Projects/Advance%20Attendance%20System/Multiple_Face_Recognition.ipynb#ch0000002?line=17'>18</a>\u001b[0m     cv2\u001b[39m.\u001b[39;49mimwrite(\u001b[39mstr\u001b[39;49m(i)\u001b[39m+\u001b[39;49m\u001b[39m\"\u001b[39;49m\u001b[39m.jpg\u001b[39;49m\u001b[39m\"\u001b[39;49m, crop)\n",
      "\u001b[1;31merror\u001b[0m: OpenCV(4.5.5) D:\\a\\opencv-python\\opencv-python\\opencv\\modules\\imgcodecs\\src\\loadsave.cpp:801: error: (-215:Assertion failed) !_img.empty() in function 'cv::imwrite'\n"
     ]
    }
   ],
   "source": [
    "# After Identification we will be cropping the image and saving it as a JPEG\n",
    "\n",
    "import cv2\n",
    "import face_recognition as fc \n",
    "import numpy as np\n",
    "\n",
    "image = fc.load_image_file(\"Famous.png\")\n",
    "image = cv2.cvtColor(image , cv2.COLOR_BGR2RGB)\n",
    "\n",
    "face_locations = fc.face_locations(image)\n",
    "\n",
    "# Crop should be of the form y1:y2,x1:x2\n",
    "# converting the coordinates from the face recognition software crop will be of the form\n",
    "# [face_locations[0][0]:face_locations[0][2],face_locations[0][3]:face_locations[0][1]]\n",
    "\n",
    "for i in range(len(face_locations)):\n",
    "    crop = image[face_locations[i][0]-40:face_locations[i][2]+20,face_locations[i][3]-20:face_locations[i][1]+20]\n",
    "    cv2.imwrite(str(i)+\".jpg\", crop)"
   ]
  },
  {
   "cell_type": "code",
   "execution_count": 38,
   "metadata": {},
   "outputs": [
    {
     "name": "stdout",
     "output_type": "stream",
     "text": [
      "13\n"
     ]
    },
    {
     "ename": "error",
     "evalue": "OpenCV(4.5.5) D:\\a\\opencv-python\\opencv-python\\opencv\\modules\\imgcodecs\\src\\loadsave.cpp:801: error: (-215:Assertion failed) !_img.empty() in function 'cv::imwrite'\n",
     "output_type": "error",
     "traceback": [
      "\u001b[1;31m---------------------------------------------------------------------------\u001b[0m",
      "\u001b[1;31merror\u001b[0m                                     Traceback (most recent call last)",
      "\u001b[1;32mc:\\Programming\\Python_Projects\\Advance Attendance System\\Multiple_Face_Recognition.ipynb Cell 4'\u001b[0m in \u001b[0;36m<module>\u001b[1;34m\u001b[0m\n\u001b[0;32m     <a href='vscode-notebook-cell:/c%3A/Programming/Python_Projects/Advance%20Attendance%20System/Multiple_Face_Recognition.ipynb#ch0000003?line=20'>21</a>\u001b[0m         cv2\u001b[39m.\u001b[39mimwrite(os\u001b[39m.\u001b[39mpath\u001b[39m.\u001b[39mjoin(path , \u001b[39mstr\u001b[39m(i\u001b[39m+\u001b[39m\u001b[39m1\u001b[39m)\u001b[39m+\u001b[39m\u001b[39m\"\u001b[39m\u001b[39m.jpg\u001b[39m\u001b[39m\"\u001b[39m), crop)\n\u001b[0;32m     <a href='vscode-notebook-cell:/c%3A/Programming/Python_Projects/Advance%20Attendance%20System/Multiple_Face_Recognition.ipynb#ch0000003?line=22'>23</a>\u001b[0m \u001b[39m# face_detect(\"upload_photo\\class_2.jpg\")\u001b[39;00m\n\u001b[1;32m---> <a href='vscode-notebook-cell:/c%3A/Programming/Python_Projects/Advance%20Attendance%20System/Multiple_Face_Recognition.ipynb#ch0000003?line=23'>24</a>\u001b[0m face_detect(\u001b[39m\"\u001b[39;49m\u001b[39mupload_photo\u001b[39;49m\u001b[39m\\\u001b[39;49m\u001b[39mFamous.png\u001b[39;49m\u001b[39m\"\u001b[39;49m)\n",
      "\u001b[1;32mc:\\Programming\\Python_Projects\\Advance Attendance System\\Multiple_Face_Recognition.ipynb Cell 4'\u001b[0m in \u001b[0;36mface_detect\u001b[1;34m(img)\u001b[0m\n\u001b[0;32m     <a href='vscode-notebook-cell:/c%3A/Programming/Python_Projects/Advance%20Attendance%20System/Multiple_Face_Recognition.ipynb#ch0000003?line=18'>19</a>\u001b[0m \u001b[39mfor\u001b[39;00m i \u001b[39min\u001b[39;00m \u001b[39mrange\u001b[39m(\u001b[39mlen\u001b[39m(face_locations)):\n\u001b[0;32m     <a href='vscode-notebook-cell:/c%3A/Programming/Python_Projects/Advance%20Attendance%20System/Multiple_Face_Recognition.ipynb#ch0000003?line=19'>20</a>\u001b[0m     crop \u001b[39m=\u001b[39m image[face_locations[i][\u001b[39m0\u001b[39m]\u001b[39m-\u001b[39m\u001b[39m40\u001b[39m:face_locations[i][\u001b[39m2\u001b[39m]\u001b[39m+\u001b[39m\u001b[39m20\u001b[39m,face_locations[i][\u001b[39m3\u001b[39m]\u001b[39m-\u001b[39m\u001b[39m20\u001b[39m:face_locations[i][\u001b[39m1\u001b[39m]\u001b[39m+\u001b[39m\u001b[39m20\u001b[39m]\n\u001b[1;32m---> <a href='vscode-notebook-cell:/c%3A/Programming/Python_Projects/Advance%20Attendance%20System/Multiple_Face_Recognition.ipynb#ch0000003?line=20'>21</a>\u001b[0m     cv2\u001b[39m.\u001b[39;49mimwrite(os\u001b[39m.\u001b[39;49mpath\u001b[39m.\u001b[39;49mjoin(path , \u001b[39mstr\u001b[39;49m(i\u001b[39m+\u001b[39;49m\u001b[39m1\u001b[39;49m)\u001b[39m+\u001b[39;49m\u001b[39m\"\u001b[39;49m\u001b[39m.jpg\u001b[39;49m\u001b[39m\"\u001b[39;49m), crop)\n",
      "\u001b[1;31merror\u001b[0m: OpenCV(4.5.5) D:\\a\\opencv-python\\opencv-python\\opencv\\modules\\imgcodecs\\src\\loadsave.cpp:801: error: (-215:Assertion failed) !_img.empty() in function 'cv::imwrite'\n"
     ]
    }
   ],
   "source": [
    "# Creating a function which takes in an image and save all the faces in the image as a JPEG\n",
    "\n",
    "import cv2\n",
    "import face_recognition as fc \n",
    "import numpy as np\n",
    "import os\n",
    "\n",
    "def face_detect(img):\n",
    "    image = fc.load_image_file(img)\n",
    "    image = cv2.cvtColor(image , cv2.COLOR_BGR2RGB)\n",
    "\n",
    "    face_locations = fc.face_locations(image)\n",
    "    print(len(face_locations))\n",
    "\n",
    "    # Crop should be of the form y1:y2,x1:x2\n",
    "    # converting the coordinates from the face recognition software crop will be of the form\n",
    "    # [face_locations[0][0]:face_locations[0][2],face_locations[0][3]:face_locations[0][1]]\n",
    "\n",
    "    for i in range(len(face_locations)):\n",
    "        crop = image[face_locations[i][0]-40:face_locations[i][2]+20,face_locations[i][3]-20:face_locations[i][1]+20]\n",
    "        cv2.imwrite(os.path.join(path , str(i+1)+\".jpg\"), crop)\n",
    "    \n",
    "# face_detect(\"upload_photo\\class_2.jpg\")\n",
    "face_detect(\"upload_photo\\Famous.png\")\n",
    "\n"
   ]
  },
  {
   "cell_type": "markdown",
   "metadata": {},
   "source": [
    "Folder files to isolated photos"
   ]
  },
  {
   "cell_type": "code",
   "execution_count": 5,
   "metadata": {},
   "outputs": [
    {
     "name": "stdout",
     "output_type": "stream",
     "text": [
      "11\n",
      "23\n"
     ]
    }
   ],
   "source": [
    "import cv2\n",
    "import face_recognition as fc \n",
    "import numpy as np\n",
    "import os\n",
    "import uuid\n",
    "\n",
    "path = 'new_isolated_faces'\n",
    "\n",
    "def face_detect(img,directory):\n",
    "    filepath = str(directory)+\"/\"+str(img)\n",
    "    image = fc.load_image_file(str(filepath))\n",
    "    image = cv2.cvtColor(image , cv2.COLOR_BGR2RGB)\n",
    "\n",
    "    face_locations = fc.face_locations(image)\n",
    "    print(len(face_locations))\n",
    "\n",
    "    # Crop should be of the form y1:y2,x1:x2\n",
    "    # converting the coordinates from the face recognition software crop will be of the form\n",
    "    # [face_locations[0][0]:face_locations[0][2],face_locations[0][3]:face_locations[0][1]]\n",
    "\n",
    "    for i in range(len(face_locations)):\n",
    "        crop = image[face_locations[i][0]-40:face_locations[i][2]+20,face_locations[i][3]-20:face_locations[i][1]+20]\n",
    "        cv2.imwrite(os.path.join(path , str(uuid.uuid1().int)+\".jpg\"), crop)\n",
    "\n",
    "\n",
    "def face_folder_detector(folder_name,folder):\n",
    "    dir = str(folder)\n",
    "    for f in os.listdir(dir):\n",
    "        os.remove(os.path.join(dir, f))\n",
    "    \n",
    "    directory = str(folder_name)\n",
    "    \n",
    "    for filename in os.listdir(directory):\n",
    "        face_detect(str(filename),folder_name)\n",
    "\n",
    "face_folder_detector(\"upload_photo\",\"new_isolated_faces\")"
   ]
  },
  {
   "cell_type": "markdown",
   "metadata": {},
   "source": [
    "Face Comparison function"
   ]
  },
  {
   "cell_type": "code",
   "execution_count": 24,
   "metadata": {},
   "outputs": [
    {
     "name": "stdout",
     "output_type": "stream",
     "text": [
      "[True]\n",
      "[0.38482172]\n"
     ]
    }
   ],
   "source": [
    "import face_recognition\n",
    "\n",
    "def face_comparision(img1,img2):\n",
    "    test_1 = face_recognition.load_image_file(str(img1))\n",
    "    test_1 = cv2.cvtColor(test_1, cv2.COLOR_BGR2RGB)\n",
    "    test_2 = face_recognition.load_image_file(str(img2))\n",
    "    test_2 = cv2.cvtColor(test_2, cv2.COLOR_BGR2RGB)\n",
    "\n",
    "    # finding face location\n",
    "\n",
    "    faceLocation_test_1 = face_recognition.face_locations(test_1)[0]\n",
    "    encode_test_1 = face_recognition.face_encodings(test_1)[0]\n",
    "    cv2.rectangle(test_1, (faceLocation_test_1[3], faceLocation_test_1[0]), (faceLocation_test_1[1], faceLocation_test_1[2]), (255, 0, 255), 3)\n",
    "\n",
    "\n",
    "    faceLocation_test_2 = face_recognition.face_locations(test_2)[0]\n",
    "    encode_test_2 = face_recognition.face_encodings(test_2)[0]\n",
    "    cv2.rectangle(test_2, (faceLocation_test_2[3], faceLocation_test_2[0]), (faceLocation_test_2[1], faceLocation_test_2[2]), (255, 0, 255), 3)\n",
    "\n",
    "    results = face_recognition.compare_faces([encode_test_1], encode_test_2)\n",
    "    \n",
    "    match = face_recognition.face_distance([encode_test_1], encode_test_2)\n",
    "    \n",
    "    print(results)\n",
    "    print(match)\n",
    "    cv2.putText(test_1, f'{results}', (50,50), cv2.FONT_HERSHEY_COMPLEX, 1,(0,0,255), 2 )\n",
    "    \n",
    "face_comparision(\"DataBase_Trial/elon musk/em1.png\",\"elon_musk.jpg\")\n",
    "\n",
    "    \n"
   ]
  },
  {
   "cell_type": "markdown",
   "metadata": {},
   "source": [
    "Image and Folder Comparison"
   ]
  },
  {
   "cell_type": "code",
   "execution_count": 41,
   "metadata": {},
   "outputs": [
    {
     "name": "stdout",
     "output_type": "stream",
     "text": [
      "([], [])\n"
     ]
    }
   ],
   "source": [
    "import cv2\n",
    "import face_recognition\n",
    "import os\n",
    "def face_comparison(img1,img2):\n",
    "    \n",
    "    strength = []\n",
    "    \n",
    "    test_1 = face_recognition.load_image_file(str(img1))\n",
    "    test_1 = cv2.cvtColor(test_1, cv2.COLOR_BGR2RGB)\n",
    "    test_2 = face_recognition.load_image_file(str(img2))\n",
    "    test_2 = cv2.cvtColor(test_2, cv2.COLOR_BGR2RGB)\n",
    "\n",
    "    # finding face location\n",
    "\n",
    "    faceLocation_test_1 = face_recognition.face_locations(test_1)[0]\n",
    "    encode_test_1 = face_recognition.face_encodings(test_1)[0]\n",
    "    cv2.rectangle(test_1, (faceLocation_test_1[3], faceLocation_test_1[0]), (faceLocation_test_1[1], faceLocation_test_1[2]), (255, 0, 255), 3)\n",
    "\n",
    "\n",
    "    faceLocation_test_2 = face_recognition.face_locations(test_2)[0]\n",
    "    encode_test_2 = face_recognition.face_encodings(test_2)[0]\n",
    "    cv2.rectangle(test_2, (faceLocation_test_2[3], faceLocation_test_2[0]), (faceLocation_test_2[1], faceLocation_test_2[2]), (255, 0, 255), 3)\n",
    "\n",
    "    results = face_recognition.compare_faces([encode_test_1], encode_test_2)\n",
    "    \n",
    "    match = face_recognition.face_distance([encode_test_1], encode_test_2)\n",
    "    \n",
    "    return [results[0],float(match)]\n",
    "    # face_comparision(\"a1.jpg\",\"elon_musk.jpg\")\n",
    "\n",
    "def face_comparison_folder(img1,folder):\n",
    "    similarity = []\n",
    "    strength = []\n",
    "    dir = str(folder)\n",
    "    for f in os.listdir(dir):\n",
    "        a = face_comparison(img1,dir+\"/\"+f)\n",
    "        if a[0] == True:\n",
    "            similarity.append(a[0])\n",
    "            strength.append(a[1])\n",
    "        else:\n",
    "            break\n",
    "        \n",
    "    return similarity,strength\n",
    "\n",
    "print(face_comparison_folder(\"DataBase_Trial/mark zuckerburg/th.png\",\"final\"))\n",
    "\n",
    "\n",
    "# def face_comparison_addition(img2,name,dirc):\n",
    "#     for f in os.listdir(dirc):\n",
    "#         if f == name:\n",
    "#             face_comparison_folder(str(img2),str(dirc)+\"/\"+name)\n",
    "            \n",
    "# face_comparison_addition(\"elon.jpg\",)"
   ]
  },
  {
   "cell_type": "code",
   "execution_count": 42,
   "metadata": {},
   "outputs": [
    {
     "name": "stdout",
     "output_type": "stream",
     "text": [
      "mark zuckerburg.png\n"
     ]
    }
   ],
   "source": [
    "import cv2\n",
    "import face_recognition\n",
    "import os\n",
    "def face_comparison(img1,img2):\n",
    "    \n",
    "    strength = []\n",
    "    \n",
    "    test_1 = face_recognition.load_image_file(str(img1))\n",
    "    test_1 = cv2.cvtColor(test_1, cv2.COLOR_BGR2RGB)\n",
    "    test_2 = face_recognition.load_image_file(str(img2))\n",
    "    test_2 = cv2.cvtColor(test_2, cv2.COLOR_BGR2RGB)\n",
    "\n",
    "    # finding face location\n",
    "\n",
    "    faceLocation_test_1 = face_recognition.face_locations(test_1)[0]\n",
    "    encode_test_1 = face_recognition.face_encodings(test_1)[0]\n",
    "    cv2.rectangle(test_1, (faceLocation_test_1[3], faceLocation_test_1[0]), (faceLocation_test_1[1], faceLocation_test_1[2]), (255, 0, 255), 3)\n",
    "\n",
    "\n",
    "    faceLocation_test_2 = face_recognition.face_locations(test_2)[0]\n",
    "    encode_test_2 = face_recognition.face_encodings(test_2)[0]\n",
    "    cv2.rectangle(test_2, (faceLocation_test_2[3], faceLocation_test_2[0]), (faceLocation_test_2[1], faceLocation_test_2[2]), (255, 0, 255), 3)\n",
    "\n",
    "    results = face_recognition.compare_faces([encode_test_1], encode_test_2)\n",
    "    \n",
    "    match = face_recognition.face_distance([encode_test_1], encode_test_2)\n",
    "    \n",
    "    return [results[0],float(match)]\n",
    "    # face_comparision(\"a1.jpg\",\"elon_musk.jpg\")\n",
    "\n",
    "def face_comparison_folder(img1,folder):\n",
    "    similarity = []\n",
    "    strength = []\n",
    "    dir = str(folder)\n",
    "    for f in os.listdir(dir):\n",
    "        a = face_comparison(img1,dir+\"/\"+f)\n",
    "        if a[0] == True:\n",
    "            print(f)\n",
    "            break\n",
    "face_comparison_folder(\"DataBase_Trial/mark zuckerburg/th.png\",\"final\")\n"
   ]
  }
 ],
 "metadata": {
  "interpreter": {
   "hash": "63fd5069d213b44bf678585dea6b12cceca9941eaf7f819626cde1f2670de90d"
  },
  "kernelspec": {
   "display_name": "Python 3.9.7 64-bit",
   "language": "python",
   "name": "python3"
  },
  "language_info": {
   "codemirror_mode": {
    "name": "ipython",
    "version": 3
   },
   "file_extension": ".py",
   "mimetype": "text/x-python",
   "name": "python",
   "nbconvert_exporter": "python",
   "pygments_lexer": "ipython3",
   "version": "3.9.7"
  },
  "orig_nbformat": 4
 },
 "nbformat": 4,
 "nbformat_minor": 2
}
