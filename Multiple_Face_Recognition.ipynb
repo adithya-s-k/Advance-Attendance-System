{
 "cells": [
  {
   "cell_type": "markdown",
   "metadata": {},
   "source": [
    "Identifying Each face from the image and putting a rectangle around it"
   ]
  },
  {
   "cell_type": "code",
   "execution_count": 3,
   "metadata": {},
   "outputs": [
    {
     "name": "stdout",
     "output_type": "stream",
     "text": [
      "[(276, 472, 319, 429), (211, 343, 262, 291), (252, 218, 295, 175), (218, 597, 262, 554), (159, 273, 211, 222), (193, 147, 245, 95), (118, 448, 161, 405), (161, 395, 204, 352), (49, 337, 101, 285), (170, 544, 222, 492), (147, 83, 199, 31)]\n"
     ]
    }
   ],
   "source": [
    "import cv2\n",
    "import face_recognition as fc \n",
    "import numpy as np\n",
    "\n",
    "image = fc.load_image_file(\"class.jpg\")\n",
    "image = cv2.cvtColor(image , cv2.COLOR_BGR2RGB)\n",
    "\n",
    "face_locations = fc.face_locations(image)\n",
    "print(face_locations)\n",
    "\n",
    "for i in range(len(face_locations)):\n",
    "    image = cv2.rectangle(image,(face_locations[i][3],face_locations[i][0]),(face_locations[i][1],face_locations[i][2]),(255,0,255),2)\n",
    "\n",
    "cv2.imshow(\"Class Room\" , image)\n",
    "cv2.waitKey(0)\n",
    "cv2.destroyAllWindows()\n",
    "\n",
    "# The output is in the form of y1,x2,y2,x1"
   ]
  },
  {
   "cell_type": "code",
   "execution_count": 10,
   "metadata": {},
   "outputs": [
    {
     "name": "stdout",
     "output_type": "stream",
     "text": [
      "[(276, 472, 319, 429), (211, 343, 262, 291), (252, 218, 295, 175), (218, 597, 262, 554), (159, 273, 211, 222), (193, 147, 245, 95), (118, 448, 161, 405), (161, 395, 204, 352), (49, 337, 101, 285), (170, 544, 222, 492), (147, 83, 199, 31)]\n"
     ]
    }
   ],
   "source": [
    "# After Identification we will be cropping the image and saving it as a JPEG\n",
    "\n",
    "import cv2\n",
    "import face_recognition as fc \n",
    "import numpy as np\n",
    "\n",
    "image = fc.load_image_file(\"class.jpg\")\n",
    "image = cv2.cvtColor(image , cv2.COLOR_BGR2RGB)\n",
    "\n",
    "face_locations = fc.face_locations(image)\n",
    "\n",
    "# Crop should be of the form y1:y2,x1:x2\n",
    "# converting the coordinates from the face recognition software crop will be of the form\n",
    "# [face_locations[0][0]:face_locations[0][2],face_locations[0][3]:face_locations[0][1]]\n",
    "\n",
    "for i in range(len(face_locations)):\n",
    "    crop = image[face_locations[i][0]-40:face_locations[i][2]+20,face_locations[i][3]-20:face_locations[i][1]+20]\n",
    "    cv2.imwrite(str(i)+\".jpg\", crop)"
   ]
  }
 ],
 "metadata": {
  "interpreter": {
   "hash": "63fd5069d213b44bf678585dea6b12cceca9941eaf7f819626cde1f2670de90d"
  },
  "kernelspec": {
   "display_name": "Python 3.9.7 64-bit",
   "language": "python",
   "name": "python3"
  },
  "language_info": {
   "codemirror_mode": {
    "name": "ipython",
    "version": 3
   },
   "file_extension": ".py",
   "mimetype": "text/x-python",
   "name": "python",
   "nbconvert_exporter": "python",
   "pygments_lexer": "ipython3",
   "version": "3.9.7"
  },
  "orig_nbformat": 4
 },
 "nbformat": 4,
 "nbformat_minor": 2
}
